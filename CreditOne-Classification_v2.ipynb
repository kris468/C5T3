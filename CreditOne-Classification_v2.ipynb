{
 "cells": [
  {
   "cell_type": "markdown",
   "metadata": {},
   "source": [
    "# Evaluate Classification Models For Loan Default Prediction"
   ]
  },
  {
   "cell_type": "code",
   "execution_count": 1,
   "metadata": {},
   "outputs": [],
   "source": [
    "#Import Pandas, NumPy, SciPy, Math, Matplotlib\n",
    "import pandas as pd\n",
    "import numpy as np\n",
    "import scipy\n",
    "import matplotlib.pyplot as plt\n",
    "import seaborn as sns\n",
    "\n",
    "#Import Estimators for Classification\n",
    "from sklearn.ensemble import RandomForestClassifier\n",
    "from sklearn.neighbors import KNeighborsClassifier\n",
    "from sklearn.tree import DecisionTreeClassifier\n",
    "\n",
    "#Model metrics\n",
    "from sklearn.metrics import cohen_kappa_score\n",
    "from sklearn.metrics import precision_recall_fscore_support\n",
    "from sklearn.metrics import accuracy_score\n",
    "from sklearn.metrics import confusion_matrix\n",
    "from sklearn.model_selection import cross_val_score\n",
    "\n",
    "#Cross-Validation\n",
    "from sklearn.model_selection import train_test_split\n",
    "\n",
    "#Recursive Feature Elimination with Cross-validation\n",
    "from sklearn.feature_selection import RFECV"
   ]
  },
  {
   "cell_type": "code",
   "execution_count": 2,
   "metadata": {},
   "outputs": [
    {
     "data": {
      "text/html": [
       "<div>\n",
       "<style scoped>\n",
       "    .dataframe tbody tr th:only-of-type {\n",
       "        vertical-align: middle;\n",
       "    }\n",
       "\n",
       "    .dataframe tbody tr th {\n",
       "        vertical-align: top;\n",
       "    }\n",
       "\n",
       "    .dataframe thead th {\n",
       "        text-align: right;\n",
       "    }\n",
       "</style>\n",
       "<table border=\"1\" class=\"dataframe\">\n",
       "  <thead>\n",
       "    <tr style=\"text-align: right;\">\n",
       "      <th></th>\n",
       "      <th>LIMITBAL_Small</th>\n",
       "      <th>LIMITBAL_Medium</th>\n",
       "      <th>LIMITBAL_Large</th>\n",
       "      <th>LIMITBAL_Super</th>\n",
       "      <th>PAY_0</th>\n",
       "      <th>PAY_2</th>\n",
       "      <th>PAY_3</th>\n",
       "      <th>PAY_4</th>\n",
       "      <th>PAY_5</th>\n",
       "      <th>PAY_6</th>\n",
       "      <th>...</th>\n",
       "      <th>BILL_AMT2</th>\n",
       "      <th>BILL_AMT3</th>\n",
       "      <th>BILL_AMT4</th>\n",
       "      <th>PAY_AMT1</th>\n",
       "      <th>PAY_AMT2</th>\n",
       "      <th>PAY_AMT3</th>\n",
       "      <th>PAY_AMT4</th>\n",
       "      <th>PAY_AMT5</th>\n",
       "      <th>PAY_AMT6</th>\n",
       "      <th>default</th>\n",
       "    </tr>\n",
       "  </thead>\n",
       "  <tbody>\n",
       "    <tr>\n",
       "      <th>0</th>\n",
       "      <td>1</td>\n",
       "      <td>0</td>\n",
       "      <td>0</td>\n",
       "      <td>0</td>\n",
       "      <td>2</td>\n",
       "      <td>2</td>\n",
       "      <td>-1</td>\n",
       "      <td>-1</td>\n",
       "      <td>-2</td>\n",
       "      <td>-2</td>\n",
       "      <td>...</td>\n",
       "      <td>3102</td>\n",
       "      <td>689</td>\n",
       "      <td>0</td>\n",
       "      <td>0</td>\n",
       "      <td>689</td>\n",
       "      <td>0</td>\n",
       "      <td>0</td>\n",
       "      <td>0</td>\n",
       "      <td>0</td>\n",
       "      <td>1</td>\n",
       "    </tr>\n",
       "    <tr>\n",
       "      <th>1</th>\n",
       "      <td>0</td>\n",
       "      <td>1</td>\n",
       "      <td>0</td>\n",
       "      <td>0</td>\n",
       "      <td>-1</td>\n",
       "      <td>2</td>\n",
       "      <td>0</td>\n",
       "      <td>0</td>\n",
       "      <td>0</td>\n",
       "      <td>2</td>\n",
       "      <td>...</td>\n",
       "      <td>1725</td>\n",
       "      <td>2682</td>\n",
       "      <td>3272</td>\n",
       "      <td>0</td>\n",
       "      <td>1000</td>\n",
       "      <td>1000</td>\n",
       "      <td>1000</td>\n",
       "      <td>0</td>\n",
       "      <td>2000</td>\n",
       "      <td>1</td>\n",
       "    </tr>\n",
       "    <tr>\n",
       "      <th>2</th>\n",
       "      <td>0</td>\n",
       "      <td>1</td>\n",
       "      <td>0</td>\n",
       "      <td>0</td>\n",
       "      <td>0</td>\n",
       "      <td>0</td>\n",
       "      <td>0</td>\n",
       "      <td>0</td>\n",
       "      <td>0</td>\n",
       "      <td>0</td>\n",
       "      <td>...</td>\n",
       "      <td>14027</td>\n",
       "      <td>13559</td>\n",
       "      <td>14331</td>\n",
       "      <td>1518</td>\n",
       "      <td>1500</td>\n",
       "      <td>1000</td>\n",
       "      <td>1000</td>\n",
       "      <td>1000</td>\n",
       "      <td>5000</td>\n",
       "      <td>0</td>\n",
       "    </tr>\n",
       "    <tr>\n",
       "      <th>3</th>\n",
       "      <td>1</td>\n",
       "      <td>0</td>\n",
       "      <td>0</td>\n",
       "      <td>0</td>\n",
       "      <td>0</td>\n",
       "      <td>0</td>\n",
       "      <td>0</td>\n",
       "      <td>0</td>\n",
       "      <td>0</td>\n",
       "      <td>0</td>\n",
       "      <td>...</td>\n",
       "      <td>48233</td>\n",
       "      <td>49291</td>\n",
       "      <td>28314</td>\n",
       "      <td>2000</td>\n",
       "      <td>2019</td>\n",
       "      <td>1200</td>\n",
       "      <td>1100</td>\n",
       "      <td>1069</td>\n",
       "      <td>1000</td>\n",
       "      <td>0</td>\n",
       "    </tr>\n",
       "    <tr>\n",
       "      <th>4</th>\n",
       "      <td>1</td>\n",
       "      <td>0</td>\n",
       "      <td>0</td>\n",
       "      <td>0</td>\n",
       "      <td>-1</td>\n",
       "      <td>0</td>\n",
       "      <td>-1</td>\n",
       "      <td>0</td>\n",
       "      <td>0</td>\n",
       "      <td>0</td>\n",
       "      <td>...</td>\n",
       "      <td>5670</td>\n",
       "      <td>35835</td>\n",
       "      <td>20940</td>\n",
       "      <td>2000</td>\n",
       "      <td>36681</td>\n",
       "      <td>10000</td>\n",
       "      <td>9000</td>\n",
       "      <td>689</td>\n",
       "      <td>679</td>\n",
       "      <td>0</td>\n",
       "    </tr>\n",
       "  </tbody>\n",
       "</table>\n",
       "<p>5 rows × 21 columns</p>\n",
       "</div>"
      ],
      "text/plain": [
       "   LIMITBAL_Small  LIMITBAL_Medium  LIMITBAL_Large  LIMITBAL_Super  PAY_0  \\\n",
       "0               1                0               0               0      2   \n",
       "1               0                1               0               0     -1   \n",
       "2               0                1               0               0      0   \n",
       "3               1                0               0               0      0   \n",
       "4               1                0               0               0     -1   \n",
       "\n",
       "   PAY_2  PAY_3  PAY_4  PAY_5  PAY_6   ...     BILL_AMT2  BILL_AMT3  \\\n",
       "0      2     -1     -1     -2     -2   ...          3102        689   \n",
       "1      2      0      0      0      2   ...          1725       2682   \n",
       "2      0      0      0      0      0   ...         14027      13559   \n",
       "3      0      0      0      0      0   ...         48233      49291   \n",
       "4      0     -1      0      0      0   ...          5670      35835   \n",
       "\n",
       "   BILL_AMT4  PAY_AMT1  PAY_AMT2  PAY_AMT3  PAY_AMT4  PAY_AMT5  PAY_AMT6  \\\n",
       "0          0         0       689         0         0         0         0   \n",
       "1       3272         0      1000      1000      1000         0      2000   \n",
       "2      14331      1518      1500      1000      1000      1000      5000   \n",
       "3      28314      2000      2019      1200      1100      1069      1000   \n",
       "4      20940      2000     36681     10000      9000       689       679   \n",
       "\n",
       "   default  \n",
       "0        1  \n",
       "1        1  \n",
       "2        0  \n",
       "3        0  \n",
       "4        0  \n",
       "\n",
       "[5 rows x 21 columns]"
      ]
     },
     "execution_count": 2,
     "metadata": {},
     "output_type": "execute_result"
    }
   ],
   "source": [
    "#Import data\n",
    "rawData = pd.read_csv('Preprocessed_DefaultData_v2.csv', header=1)\n",
    "np.random.seed(0)\n",
    "rawData.head()"
   ]
  },
  {
   "cell_type": "code",
   "execution_count": 3,
   "metadata": {},
   "outputs": [
    {
     "name": "stdout",
     "output_type": "stream",
     "text": [
      "<class 'pandas.core.frame.DataFrame'>\n",
      "RangeIndex: 30000 entries, 0 to 29999\n",
      "Data columns (total 21 columns):\n",
      "LIMITBAL_Small     30000 non-null int64\n",
      "LIMITBAL_Medium    30000 non-null int64\n",
      "LIMITBAL_Large     30000 non-null int64\n",
      "LIMITBAL_Super     30000 non-null int64\n",
      "PAY_0              30000 non-null int64\n",
      "PAY_2              30000 non-null int64\n",
      "PAY_3              30000 non-null int64\n",
      "PAY_4              30000 non-null int64\n",
      "PAY_5              30000 non-null int64\n",
      "PAY_6              30000 non-null int64\n",
      "BILL_AMT1          30000 non-null int64\n",
      "BILL_AMT2          30000 non-null int64\n",
      "BILL_AMT3          30000 non-null int64\n",
      "BILL_AMT4          30000 non-null int64\n",
      "PAY_AMT1           30000 non-null int64\n",
      "PAY_AMT2           30000 non-null int64\n",
      "PAY_AMT3           30000 non-null int64\n",
      "PAY_AMT4           30000 non-null int64\n",
      "PAY_AMT5           30000 non-null int64\n",
      "PAY_AMT6           30000 non-null int64\n",
      "default            30000 non-null int64\n",
      "dtypes: int64(21)\n",
      "memory usage: 4.8 MB\n"
     ]
    }
   ],
   "source": [
    "rawData.info()"
   ]
  },
  {
   "cell_type": "code",
   "execution_count": 4,
   "metadata": {},
   "outputs": [
    {
     "name": "stdout",
     "output_type": "stream",
     "text": [
      "Summary of Feature Sample \n"
     ]
    },
    {
     "data": {
      "text/html": [
       "<div>\n",
       "<style scoped>\n",
       "    .dataframe tbody tr th:only-of-type {\n",
       "        vertical-align: middle;\n",
       "    }\n",
       "\n",
       "    .dataframe tbody tr th {\n",
       "        vertical-align: top;\n",
       "    }\n",
       "\n",
       "    .dataframe thead th {\n",
       "        text-align: right;\n",
       "    }\n",
       "</style>\n",
       "<table border=\"1\" class=\"dataframe\">\n",
       "  <thead>\n",
       "    <tr style=\"text-align: right;\">\n",
       "      <th></th>\n",
       "      <th>LIMITBAL_Small</th>\n",
       "      <th>LIMITBAL_Medium</th>\n",
       "      <th>LIMITBAL_Large</th>\n",
       "      <th>LIMITBAL_Super</th>\n",
       "      <th>PAY_0</th>\n",
       "      <th>PAY_2</th>\n",
       "      <th>PAY_3</th>\n",
       "      <th>PAY_4</th>\n",
       "      <th>PAY_5</th>\n",
       "      <th>PAY_6</th>\n",
       "      <th>BILL_AMT1</th>\n",
       "      <th>BILL_AMT2</th>\n",
       "      <th>BILL_AMT3</th>\n",
       "      <th>BILL_AMT4</th>\n",
       "      <th>PAY_AMT1</th>\n",
       "      <th>PAY_AMT2</th>\n",
       "      <th>PAY_AMT3</th>\n",
       "      <th>PAY_AMT4</th>\n",
       "      <th>PAY_AMT5</th>\n",
       "      <th>PAY_AMT6</th>\n",
       "    </tr>\n",
       "  </thead>\n",
       "  <tbody>\n",
       "    <tr>\n",
       "      <th>0</th>\n",
       "      <td>1</td>\n",
       "      <td>0</td>\n",
       "      <td>0</td>\n",
       "      <td>0</td>\n",
       "      <td>2</td>\n",
       "      <td>2</td>\n",
       "      <td>-1</td>\n",
       "      <td>-1</td>\n",
       "      <td>-2</td>\n",
       "      <td>-2</td>\n",
       "      <td>3913</td>\n",
       "      <td>3102</td>\n",
       "      <td>689</td>\n",
       "      <td>0</td>\n",
       "      <td>0</td>\n",
       "      <td>689</td>\n",
       "      <td>0</td>\n",
       "      <td>0</td>\n",
       "      <td>0</td>\n",
       "      <td>0</td>\n",
       "    </tr>\n",
       "    <tr>\n",
       "      <th>1</th>\n",
       "      <td>0</td>\n",
       "      <td>1</td>\n",
       "      <td>0</td>\n",
       "      <td>0</td>\n",
       "      <td>-1</td>\n",
       "      <td>2</td>\n",
       "      <td>0</td>\n",
       "      <td>0</td>\n",
       "      <td>0</td>\n",
       "      <td>2</td>\n",
       "      <td>2682</td>\n",
       "      <td>1725</td>\n",
       "      <td>2682</td>\n",
       "      <td>3272</td>\n",
       "      <td>0</td>\n",
       "      <td>1000</td>\n",
       "      <td>1000</td>\n",
       "      <td>1000</td>\n",
       "      <td>0</td>\n",
       "      <td>2000</td>\n",
       "    </tr>\n",
       "    <tr>\n",
       "      <th>2</th>\n",
       "      <td>0</td>\n",
       "      <td>1</td>\n",
       "      <td>0</td>\n",
       "      <td>0</td>\n",
       "      <td>0</td>\n",
       "      <td>0</td>\n",
       "      <td>0</td>\n",
       "      <td>0</td>\n",
       "      <td>0</td>\n",
       "      <td>0</td>\n",
       "      <td>29239</td>\n",
       "      <td>14027</td>\n",
       "      <td>13559</td>\n",
       "      <td>14331</td>\n",
       "      <td>1518</td>\n",
       "      <td>1500</td>\n",
       "      <td>1000</td>\n",
       "      <td>1000</td>\n",
       "      <td>1000</td>\n",
       "      <td>5000</td>\n",
       "    </tr>\n",
       "    <tr>\n",
       "      <th>3</th>\n",
       "      <td>1</td>\n",
       "      <td>0</td>\n",
       "      <td>0</td>\n",
       "      <td>0</td>\n",
       "      <td>0</td>\n",
       "      <td>0</td>\n",
       "      <td>0</td>\n",
       "      <td>0</td>\n",
       "      <td>0</td>\n",
       "      <td>0</td>\n",
       "      <td>46990</td>\n",
       "      <td>48233</td>\n",
       "      <td>49291</td>\n",
       "      <td>28314</td>\n",
       "      <td>2000</td>\n",
       "      <td>2019</td>\n",
       "      <td>1200</td>\n",
       "      <td>1100</td>\n",
       "      <td>1069</td>\n",
       "      <td>1000</td>\n",
       "    </tr>\n",
       "    <tr>\n",
       "      <th>4</th>\n",
       "      <td>1</td>\n",
       "      <td>0</td>\n",
       "      <td>0</td>\n",
       "      <td>0</td>\n",
       "      <td>-1</td>\n",
       "      <td>0</td>\n",
       "      <td>-1</td>\n",
       "      <td>0</td>\n",
       "      <td>0</td>\n",
       "      <td>0</td>\n",
       "      <td>8617</td>\n",
       "      <td>5670</td>\n",
       "      <td>35835</td>\n",
       "      <td>20940</td>\n",
       "      <td>2000</td>\n",
       "      <td>36681</td>\n",
       "      <td>10000</td>\n",
       "      <td>9000</td>\n",
       "      <td>689</td>\n",
       "      <td>679</td>\n",
       "    </tr>\n",
       "  </tbody>\n",
       "</table>\n",
       "</div>"
      ],
      "text/plain": [
       "   LIMITBAL_Small  LIMITBAL_Medium  LIMITBAL_Large  LIMITBAL_Super  PAY_0  \\\n",
       "0               1                0               0               0      2   \n",
       "1               0                1               0               0     -1   \n",
       "2               0                1               0               0      0   \n",
       "3               1                0               0               0      0   \n",
       "4               1                0               0               0     -1   \n",
       "\n",
       "   PAY_2  PAY_3  PAY_4  PAY_5  PAY_6  BILL_AMT1  BILL_AMT2  BILL_AMT3  \\\n",
       "0      2     -1     -1     -2     -2       3913       3102        689   \n",
       "1      2      0      0      0      2       2682       1725       2682   \n",
       "2      0      0      0      0      0      29239      14027      13559   \n",
       "3      0      0      0      0      0      46990      48233      49291   \n",
       "4      0     -1      0      0      0       8617       5670      35835   \n",
       "\n",
       "   BILL_AMT4  PAY_AMT1  PAY_AMT2  PAY_AMT3  PAY_AMT4  PAY_AMT5  PAY_AMT6  \n",
       "0          0         0       689         0         0         0         0  \n",
       "1       3272         0      1000      1000      1000         0      2000  \n",
       "2      14331      1518      1500      1000      1000      1000      5000  \n",
       "3      28314      2000      2019      1200      1100      1069      1000  \n",
       "4      20940      2000     36681     10000      9000       689       679  "
      ]
     },
     "execution_count": 4,
     "metadata": {},
     "output_type": "execute_result"
    }
   ],
   "source": [
    "#Select features for Classification\n",
    "features = rawData.iloc[:,:20]\n",
    "print('Summary of Feature Sample ')\n",
    "features.head()"
   ]
  },
  {
   "cell_type": "code",
   "execution_count": 5,
   "metadata": {},
   "outputs": [],
   "source": [
    "#Select the dependent variable\n",
    "depVar = rawData['default']"
   ]
  },
  {
   "cell_type": "code",
   "execution_count": 38,
   "metadata": {},
   "outputs": [],
   "source": [
    "#Use Model Selection from sklearn to create cross validation on training sets with 70/30 split\n",
    "X_train, X_test, y_train, y_test = train_test_split(features, depVar, test_size = 0.3, random_state=1)"
   ]
  },
  {
   "cell_type": "code",
   "execution_count": 39,
   "metadata": {},
   "outputs": [
    {
     "name": "stdout",
     "output_type": "stream",
     "text": [
      "The number of observations in the X testing set are: 9000\n",
      "The number of observations in the Y training set are: 21000\n"
     ]
    },
    {
     "data": {
      "text/plain": [
       "4936     0\n",
       "4788     0\n",
       "8447     1\n",
       "4535     1\n",
       "27563    0\n",
       "Name: default, dtype: int64"
      ]
     },
     "execution_count": 39,
     "metadata": {},
     "output_type": "execute_result"
    }
   ],
   "source": [
    "#Verifying the training, validation and test sets\n",
    "X_test_count = len(X_test.index)\n",
    "print('The number of observations in the X testing set are:',str(X_test_count))\n",
    "y_train_count = len(y_train.index)\n",
    "print('The number of observations in the Y training set are:',str(y_train_count))\n",
    "y_train.head()"
   ]
  },
  {
   "cell_type": "code",
   "execution_count": 40,
   "metadata": {},
   "outputs": [
    {
     "data": {
      "text/plain": [
       "((21000, 20), (9000, 20))"
      ]
     },
     "execution_count": 40,
     "metadata": {},
     "output_type": "execute_result"
    }
   ],
   "source": [
    "X_train.shape, X_test.shape"
   ]
  },
  {
   "cell_type": "code",
   "execution_count": 41,
   "metadata": {},
   "outputs": [],
   "source": [
    "#Define variable names for base classifier Models\n",
    "modelRF = RandomForestClassifier(max_depth=10, n_estimators=50)\n",
    "modelKNN = KNeighborsClassifier(n_neighbors = 5, algorithm = \"kd_tree\")\n",
    "modelDT = DecisionTreeClassifier(max_depth=10, splitter = \"random\")"
   ]
  },
  {
   "cell_type": "code",
   "execution_count": 42,
   "metadata": {},
   "outputs": [
    {
     "data": {
      "text/plain": [
       "RandomForestClassifier(bootstrap=True, class_weight=None, criterion='gini',\n",
       "            max_depth=10, max_features='auto', max_leaf_nodes=None,\n",
       "            min_impurity_decrease=0.0, min_impurity_split=None,\n",
       "            min_samples_leaf=1, min_samples_split=2,\n",
       "            min_weight_fraction_leaf=0.0, n_estimators=50, n_jobs=None,\n",
       "            oob_score=False, random_state=None, verbose=0,\n",
       "            warm_start=False)"
      ]
     },
     "execution_count": 42,
     "metadata": {},
     "output_type": "execute_result"
    }
   ],
   "source": [
    "#Train the base Random Forest classifier\n",
    "modelRF.fit(X_train,y_train)"
   ]
  },
  {
   "cell_type": "code",
   "execution_count": 43,
   "metadata": {},
   "outputs": [
    {
     "data": {
      "text/plain": [
       "KNeighborsClassifier(algorithm='kd_tree', leaf_size=30, metric='minkowski',\n",
       "           metric_params=None, n_jobs=None, n_neighbors=5, p=2,\n",
       "           weights='uniform')"
      ]
     },
     "execution_count": 43,
     "metadata": {},
     "output_type": "execute_result"
    }
   ],
   "source": [
    "#Train the base K-Nearest Neighbor Classifier\n",
    "modelKNN.fit(X_train,y_train)"
   ]
  },
  {
   "cell_type": "code",
   "execution_count": 44,
   "metadata": {},
   "outputs": [
    {
     "data": {
      "text/plain": [
       "DecisionTreeClassifier(class_weight=None, criterion='gini', max_depth=10,\n",
       "            max_features=None, max_leaf_nodes=None,\n",
       "            min_impurity_decrease=0.0, min_impurity_split=None,\n",
       "            min_samples_leaf=1, min_samples_split=2,\n",
       "            min_weight_fraction_leaf=0.0, presort=False, random_state=None,\n",
       "            splitter='random')"
      ]
     },
     "execution_count": 44,
     "metadata": {},
     "output_type": "execute_result"
    }
   ],
   "source": [
    "#Train the base Decision Tree Classifier\n",
    "modelDT.fit(X_train,y_train)"
   ]
  },
  {
   "cell_type": "code",
   "execution_count": 13,
   "metadata": {},
   "outputs": [
    {
     "name": "stdout",
     "output_type": "stream",
     "text": [
      "Cross validation scores for base models on training set \n",
      "\n"
     ]
    },
    {
     "name": "stderr",
     "output_type": "stream",
     "text": [
      "C:\\ProgramData\\Anaconda3\\lib\\site-packages\\sklearn\\model_selection\\_split.py:2053: FutureWarning: You should specify a value for 'cv' instead of relying on the default value. The default value will change from 3 to 5 in version 0.22.\n",
      "  warnings.warn(CV_WARNING, FutureWarning)\n"
     ]
    },
    {
     "name": "stdout",
     "output_type": "stream",
     "text": [
      "[0.82066667 0.82283333 0.814     ]\n"
     ]
    },
    {
     "name": "stderr",
     "output_type": "stream",
     "text": [
      "C:\\ProgramData\\Anaconda3\\lib\\site-packages\\sklearn\\model_selection\\_split.py:2053: FutureWarning: You should specify a value for 'cv' instead of relying on the default value. The default value will change from 3 to 5 in version 0.22.\n",
      "  warnings.warn(CV_WARNING, FutureWarning)\n"
     ]
    },
    {
     "name": "stdout",
     "output_type": "stream",
     "text": [
      "[0.76116667 0.75766667 0.76016667]\n",
      "[0.80233333 0.819      0.80683333]\n"
     ]
    },
    {
     "name": "stderr",
     "output_type": "stream",
     "text": [
      "C:\\ProgramData\\Anaconda3\\lib\\site-packages\\sklearn\\model_selection\\_split.py:2053: FutureWarning: You should specify a value for 'cv' instead of relying on the default value. The default value will change from 3 to 5 in version 0.22.\n",
      "  warnings.warn(CV_WARNING, FutureWarning)\n"
     ]
    }
   ],
   "source": [
    "#Estimate metrics for cross validation for base models\n",
    "print('Cross validation scores for base models on training set \\n')\n",
    "print(cross_val_score(modelRF, X_train, y_train))\n",
    "print(cross_val_score(modelKNN, X_train, y_train))\n",
    "print(cross_val_score(modelDT, X_train, y_train))"
   ]
  },
  {
   "cell_type": "code",
   "execution_count": 14,
   "metadata": {},
   "outputs": [
    {
     "name": "stdout",
     "output_type": "stream",
     "text": [
      "Model scores for all classifiers on training set \n",
      "\n",
      "Model score for Random Forest Classifier: 0.85794\n",
      "Model score for k-Nearest Neighbor Classifier: 0.81272\n",
      "Model score for Decision Tree Classifier: 0.83883\n"
     ]
    }
   ],
   "source": [
    "#Obtain base model scores on training sets\n",
    "print('Model scores for all classifiers on training set \\n')\n",
    "print('Model score for Random Forest Classifier: %.5f' % modelRF.score(X_train,y_train))\n",
    "print('Model score for k-Nearest Neighbor Classifier: %.5f' % modelKNN.score(X_train,y_train))\n",
    "print('Model score for Decision Tree Classifier: %.5f' % modelDT.score(X_train,y_train))"
   ]
  },
  {
   "cell_type": "code",
   "execution_count": 45,
   "metadata": {},
   "outputs": [
    {
     "name": "stdout",
     "output_type": "stream",
     "text": [
      "Kappa scores for all base models on validation set \n",
      "\n",
      "Kappa score for Random Forest Classifier: 0.50030\n",
      "Kappa score for k-Nearest Neighbor Classifier: 0.33891\n",
      "Kappa score for Decision Tree Classifier: 0.43523\n"
     ]
    }
   ],
   "source": [
    "#Obtain training set Kappa scores for all base models\n",
    "print('Kappa scores for all base models on validation set \\n')\n",
    "print('Kappa score for Random Forest Classifier: %.5f' % cohen_kappa_score(y_train,modelRF.predict(X_train)))\n",
    "print('Kappa score for k-Nearest Neighbor Classifier: %.5f' % cohen_kappa_score(y_train,modelKNN.predict(X_train)))\n",
    "print('Kappa score for Decision Tree Classifier: %.5f' % cohen_kappa_score(y_train,modelDT.predict(X_train)))"
   ]
  },
  {
   "cell_type": "code",
   "execution_count": 46,
   "metadata": {},
   "outputs": [
    {
     "name": "stdout",
     "output_type": "stream",
     "text": [
      "Accuracy scores for all base models on validation set \n",
      "\n",
      "Accuracy score for Random Forest Classifier: 0.85624\n",
      "Accuracy score for k-Nearest Neighbor Classifier: 0.81262\n",
      "Accuracy score for Decision Tree Classifier: 0.83600\n"
     ]
    }
   ],
   "source": [
    "#Obtain training set Accuracy scores for all base models\n",
    "print('Accuracy scores for all base models on validation set \\n')\n",
    "print('Accuracy score for Random Forest Classifier: %.5f' % accuracy_score(y_train,modelRF.predict(X_train)))\n",
    "print('Accuracy score for k-Nearest Neighbor Classifier: %.5f' % accuracy_score(y_train,modelKNN.predict(X_train)))\n",
    "print('Accuracy score for Decision Tree Classifier: %.5f' % accuracy_score(y_train,modelDT.predict(X_train)))"
   ]
  },
  {
   "cell_type": "code",
   "execution_count": 47,
   "metadata": {},
   "outputs": [
    {
     "name": "stdout",
     "output_type": "stream",
     "text": [
      "Precision, Recall, Fscore and Support for all base models on validation set\n",
      "\n",
      "Precision, Recall, Fscore and Support for Random Forest Classifier:\n",
      "(array([0.86100741, 0.82121573]), array([0.97250061, 0.4458585 ]), array([0.91336413, 0.57793933]), array([16364,  4636], dtype=int64))\n",
      "Precision, Recall, Fscore and Support for k-Nearest Neighbor Classifier:\n",
      "(array([0.83334227, 0.64870598]), array([0.94940112, 0.32981018]), array([0.88759391, 0.43729444]), array([16364,  4636], dtype=int64))\n",
      "Precision, Recall, Fscore and Support for Decision Tree Classifier:\n",
      "(array([0.85143075, 0.7276547 ]), array([0.95642875, 0.41091458]), array([0.90088068, 0.52522746]), array([16364,  4636], dtype=int64))\n"
     ]
    }
   ],
   "source": [
    "#Obtain training set Precision, Recall, Fscore and support for all base models\n",
    "print('Precision, Recall, Fscore and Support for all base models on validation set\\n')\n",
    "print('Precision, Recall, Fscore and Support for Random Forest Classifier:') \n",
    "print(precision_recall_fscore_support(y_train,modelRF.predict(X_train)))\n",
    "print('Precision, Recall, Fscore and Support for k-Nearest Neighbor Classifier:')\n",
    "print(precision_recall_fscore_support(y_train,modelKNN.predict(X_train)))\n",
    "print('Precision, Recall, Fscore and Support for Decision Tree Classifier:')\n",
    "print(precision_recall_fscore_support(y_train,modelDT.predict(X_train)))"
   ]
  },
  {
   "cell_type": "code",
   "execution_count": 48,
   "metadata": {},
   "outputs": [
    {
     "name": "stdout",
     "output_type": "stream",
     "text": [
      "Accuracy score for Random Forest Classifier on test set: 0.81733\n"
     ]
    }
   ],
   "source": [
    "#Predictions on test set using base random forest classifier\n",
    "predictionsRF = modelRF.predict(X_test)\n",
    "print('Accuracy score for Random Forest Classifier on test set: %.5f' % accuracy_score(y_test,predictionsRF))"
   ]
  },
  {
   "cell_type": "code",
   "execution_count": 49,
   "metadata": {},
   "outputs": [
    {
     "name": "stdout",
     "output_type": "stream",
     "text": [
      "Optimal number of features : 17\n",
      "Feature ranking: \n",
      " [1 2 3 4 1 1 1 1 1 1 1 1 1 1 1 1 1 1 1 1]\n"
     ]
    }
   ],
   "source": [
    "#Improve model accuracy with RFE using base random forest classifier\n",
    "rfecvRF = RFECV(estimator = modelRF, step = 1,cv=5, scoring = \"accuracy\")\n",
    "rfecvRF.fit(X_train,y_train)\n",
    "print(\"Optimal number of features : %d\" % rfecvRF.n_features_)\n",
    "print('Feature ranking: \\n', rfecvRF.ranking_)"
   ]
  },
  {
   "cell_type": "code",
   "execution_count": 50,
   "metadata": {},
   "outputs": [
    {
     "data": {
      "text/plain": [
       "array([0, 0, 0, ..., 0, 0, 0], dtype=int64)"
      ]
     },
     "execution_count": 50,
     "metadata": {},
     "output_type": "execute_result"
    }
   ],
   "source": [
    "#Run predictions with optimal parameters on test set\n",
    "rfecvRF.predict(X_test)"
   ]
  },
  {
   "cell_type": "code",
   "execution_count": 51,
   "metadata": {},
   "outputs": [
    {
     "name": "stdout",
     "output_type": "stream",
     "text": [
      "Accuracy score for Random Forest Classifier on test set: 0.81700\n"
     ]
    }
   ],
   "source": [
    "#Obtain accuracy of base Random forest classifier with test sets after RFE\n",
    "print('Accuracy score for Random Forest Classifier on test set: %.5f' % accuracy_score(y_test,rfecvRF.predict(X_test)))"
   ]
  },
  {
   "cell_type": "code",
   "execution_count": 52,
   "metadata": {},
   "outputs": [
    {
     "name": "stdout",
     "output_type": "stream",
     "text": [
      "[[6668  332]\n",
      " [1312  688]]\n"
     ]
    }
   ],
   "source": [
    "#Obtain confusion matrix for base Random Forest Classifier results\n",
    "cmRF = confusion_matrix(y_test,modelRF.predict(X_test))\n",
    "print(cmRF)"
   ]
  },
  {
   "cell_type": "markdown",
   "metadata": {},
   "source": [
    "## Model Parameter Tuning"
   ]
  },
  {
   "cell_type": "code",
   "execution_count": 53,
   "metadata": {},
   "outputs": [],
   "source": [
    "#Define variable names for tuned classifier Models\n",
    "modelRF2 = RandomForestClassifier(max_depth=None, n_estimators=100)\n",
    "modelKNN2 = KNeighborsClassifier(n_neighbors = 3, algorithm = \"auto\")\n",
    "modelDT2 = DecisionTreeClassifier(max_depth=None, splitter = \"best\")"
   ]
  },
  {
   "cell_type": "code",
   "execution_count": 54,
   "metadata": {},
   "outputs": [
    {
     "data": {
      "text/plain": [
       "RandomForestClassifier(bootstrap=True, class_weight=None, criterion='gini',\n",
       "            max_depth=None, max_features='auto', max_leaf_nodes=None,\n",
       "            min_impurity_decrease=0.0, min_impurity_split=None,\n",
       "            min_samples_leaf=1, min_samples_split=2,\n",
       "            min_weight_fraction_leaf=0.0, n_estimators=100, n_jobs=None,\n",
       "            oob_score=False, random_state=None, verbose=0,\n",
       "            warm_start=False)"
      ]
     },
     "execution_count": 54,
     "metadata": {},
     "output_type": "execute_result"
    }
   ],
   "source": [
    "#Train the tuned Random Forest classifier\n",
    "modelRF2.fit(X_train,y_train)"
   ]
  },
  {
   "cell_type": "code",
   "execution_count": 55,
   "metadata": {},
   "outputs": [
    {
     "data": {
      "text/plain": [
       "KNeighborsClassifier(algorithm='auto', leaf_size=30, metric='minkowski',\n",
       "           metric_params=None, n_jobs=None, n_neighbors=3, p=2,\n",
       "           weights='uniform')"
      ]
     },
     "execution_count": 55,
     "metadata": {},
     "output_type": "execute_result"
    }
   ],
   "source": [
    "#Train the tuned K-Nearest Neighbor Classifier\n",
    "modelKNN2.fit(X_train,y_train)"
   ]
  },
  {
   "cell_type": "code",
   "execution_count": 56,
   "metadata": {},
   "outputs": [
    {
     "data": {
      "text/plain": [
       "DecisionTreeClassifier(class_weight=None, criterion='gini', max_depth=None,\n",
       "            max_features=None, max_leaf_nodes=None,\n",
       "            min_impurity_decrease=0.0, min_impurity_split=None,\n",
       "            min_samples_leaf=1, min_samples_split=2,\n",
       "            min_weight_fraction_leaf=0.0, presort=False, random_state=None,\n",
       "            splitter='best')"
      ]
     },
     "execution_count": 56,
     "metadata": {},
     "output_type": "execute_result"
    }
   ],
   "source": [
    "#Train the tuned Decision Tree Classifier\n",
    "modelDT2.fit(X_train,y_train)"
   ]
  },
  {
   "cell_type": "code",
   "execution_count": 27,
   "metadata": {},
   "outputs": [
    {
     "name": "stdout",
     "output_type": "stream",
     "text": [
      "Cross validation scores for tuned models on training set \n",
      "\n"
     ]
    },
    {
     "name": "stderr",
     "output_type": "stream",
     "text": [
      "C:\\ProgramData\\Anaconda3\\lib\\site-packages\\sklearn\\model_selection\\_split.py:2053: FutureWarning: You should specify a value for 'cv' instead of relying on the default value. The default value will change from 3 to 5 in version 0.22.\n",
      "  warnings.warn(CV_WARNING, FutureWarning)\n"
     ]
    },
    {
     "name": "stdout",
     "output_type": "stream",
     "text": [
      "[0.81166667 0.8155     0.81383333]\n"
     ]
    },
    {
     "name": "stderr",
     "output_type": "stream",
     "text": [
      "C:\\ProgramData\\Anaconda3\\lib\\site-packages\\sklearn\\model_selection\\_split.py:2053: FutureWarning: You should specify a value for 'cv' instead of relying on the default value. The default value will change from 3 to 5 in version 0.22.\n",
      "  warnings.warn(CV_WARNING, FutureWarning)\n"
     ]
    },
    {
     "name": "stdout",
     "output_type": "stream",
     "text": [
      "[0.73916667 0.73133333 0.748     ]\n"
     ]
    },
    {
     "name": "stderr",
     "output_type": "stream",
     "text": [
      "C:\\ProgramData\\Anaconda3\\lib\\site-packages\\sklearn\\model_selection\\_split.py:2053: FutureWarning: You should specify a value for 'cv' instead of relying on the default value. The default value will change from 3 to 5 in version 0.22.\n",
      "  warnings.warn(CV_WARNING, FutureWarning)\n"
     ]
    },
    {
     "name": "stdout",
     "output_type": "stream",
     "text": [
      "[0.72833333 0.721      0.72516667]\n"
     ]
    }
   ],
   "source": [
    "#Estimate metrics for cross validation for tuned models\n",
    "print('Cross validation scores for tuned models on training set \\n')\n",
    "print(cross_val_score(modelRF2, X_train, y_train))\n",
    "print(cross_val_score(modelKNN2, X_train, y_train))\n",
    "print(cross_val_score(modelDT2, X_train, y_train))"
   ]
  },
  {
   "cell_type": "code",
   "execution_count": 57,
   "metadata": {},
   "outputs": [
    {
     "name": "stdout",
     "output_type": "stream",
     "text": [
      "Model scores for all tuned classifiers on training set \n",
      "\n",
      "Model score for Random Forest Classifier: 0.98814\n",
      "Model score for k-Nearest Neighbor Classifier: 0.83933\n",
      "Model score for Decision Tree Classifier: 0.98819\n"
     ]
    }
   ],
   "source": [
    "#Obtain tuned model scores on training sets\n",
    "print('Model scores for all tuned classifiers on training set \\n')\n",
    "print('Model score for Random Forest Classifier: %.5f' % modelRF2.score(X_train,y_train))\n",
    "print('Model score for k-Nearest Neighbor Classifier: %.5f' % modelKNN2.score(X_train,y_train))\n",
    "print('Model score for Decision Tree Classifier: %.5f' % modelDT2.score(X_train,y_train))"
   ]
  },
  {
   "cell_type": "code",
   "execution_count": 58,
   "metadata": {},
   "outputs": [
    {
     "name": "stdout",
     "output_type": "stream",
     "text": [
      "Kappa scores for all tuned models on validation set \n",
      "\n",
      "Kappa score for Random Forest Classifier: 0.96492\n",
      "Kappa score for k-Nearest Neighbor Classifier: 0.46908\n",
      "Kappa score for Decision Tree Classifier: 0.96504\n"
     ]
    }
   ],
   "source": [
    "#Obtain training set Kappa scores for all tuned models\n",
    "print('Kappa scores for all tuned models on validation set \\n')\n",
    "print('Kappa score for Random Forest Classifier: %.5f' % cohen_kappa_score(y_train,modelRF2.predict(X_train)))\n",
    "print('Kappa score for k-Nearest Neighbor Classifier: %.5f' % cohen_kappa_score(y_train,modelKNN2.predict(X_train)))\n",
    "print('Kappa score for Decision Tree Classifier: %.5f' % cohen_kappa_score(y_train,modelDT2.predict(X_train)))"
   ]
  },
  {
   "cell_type": "code",
   "execution_count": 59,
   "metadata": {},
   "outputs": [
    {
     "name": "stdout",
     "output_type": "stream",
     "text": [
      "Accuracy scores for all tuned models on validation set \n",
      "\n",
      "Accuracy score for Random Forest Classifier: 0.98814\n",
      "Accuracy score for k-Nearest Neighbor Classifier: 0.83933\n",
      "Accuracy score for Decision Tree Classifier: 0.98819\n"
     ]
    }
   ],
   "source": [
    "#Obtain training set Accuracy scores for all tuned models\n",
    "print('Accuracy scores for all tuned models on validation set \\n')\n",
    "print('Accuracy score for Random Forest Classifier: %.5f' % accuracy_score(y_train,modelRF2.predict(X_train)))\n",
    "print('Accuracy score for k-Nearest Neighbor Classifier: %.5f' % accuracy_score(y_train,modelKNN2.predict(X_train)))\n",
    "print('Accuracy score for Decision Tree Classifier: %.5f' % accuracy_score(y_train,modelDT2.predict(X_train)))"
   ]
  },
  {
   "cell_type": "code",
   "execution_count": 60,
   "metadata": {},
   "outputs": [
    {
     "name": "stdout",
     "output_type": "stream",
     "text": [
      "Precision, Recall, Fscore and Support for all tuned models on validation set\n",
      "\n",
      "Precision, Recall, Fscore and Support for Random Forest Classifier:\n",
      "(array([0.98559634, 0.99773088]), array([0.9993889 , 0.94844694]), array([0.9924447 , 0.97246489]), array([16364,  4636], dtype=int64))\n",
      "Precision, Recall, Fscore and Support for k-Nearest Neighbor Classifier:\n",
      "(array([0.86240375, 0.70500325]), array([0.94451234, 0.46807593]), array([0.90159249, 0.56261343]), array([16364,  4636], dtype=int64))\n",
      "Precision, Recall, Fscore and Support for Decision Tree Classifier:\n",
      "(array([0.98548018, 0.99840981]), array([0.99957223, 0.94801553]), array([0.99247618, 0.9725603 ]), array([16364,  4636], dtype=int64))\n"
     ]
    }
   ],
   "source": [
    "#Obtain training set Precision, Recall, Fscore and support for all tuned models\n",
    "print('Precision, Recall, Fscore and Support for all tuned models on validation set\\n')\n",
    "print('Precision, Recall, Fscore and Support for Random Forest Classifier:') \n",
    "print(precision_recall_fscore_support(y_train,modelRF2.predict(X_train)))\n",
    "print('Precision, Recall, Fscore and Support for k-Nearest Neighbor Classifier:')\n",
    "print(precision_recall_fscore_support(y_train,modelKNN2.predict(X_train)))\n",
    "print('Precision, Recall, Fscore and Support for Decision Tree Classifier:')\n",
    "print(precision_recall_fscore_support(y_train,modelDT2.predict(X_train)))"
   ]
  },
  {
   "cell_type": "code",
   "execution_count": 61,
   "metadata": {},
   "outputs": [
    {
     "name": "stdout",
     "output_type": "stream",
     "text": [
      "Accuracy score for tuned Random Forest Classifier on test set: 0.81011\n"
     ]
    }
   ],
   "source": [
    "#Predictions on test set using tuned random forest classifier\n",
    "predictionsRF2 = modelRF2.predict(X_test)\n",
    "print('Accuracy score for tuned Random Forest Classifier on test set: %.5f' % accuracy_score(y_test,predictionsRF2))"
   ]
  },
  {
   "cell_type": "code",
   "execution_count": 62,
   "metadata": {},
   "outputs": [
    {
     "name": "stdout",
     "output_type": "stream",
     "text": [
      "Optimal number of features : 20\n"
     ]
    }
   ],
   "source": [
    "#Improve model accuracy with RFE using tuned random forest classifier\n",
    "rfecvRF2 = RFECV(estimator = modelRF2, step = 1,cv=5, scoring = \"accuracy\")\n",
    "rfecvRF2.fit(X_train,y_train)\n",
    "print(\"Optimal number of features : %d\" % rfecvRF2.n_features_)"
   ]
  },
  {
   "cell_type": "code",
   "execution_count": 63,
   "metadata": {},
   "outputs": [
    {
     "name": "stdout",
     "output_type": "stream",
     "text": [
      "Feature ranking: \n",
      " [1 1 1 1 1 1 1 1 1 1 1 1 1 1 1 1 1 1 1 1]\n"
     ]
    },
    {
     "data": {
      "text/plain": [
       "array([0, 0, 0, ..., 0, 0, 0], dtype=int64)"
      ]
     },
     "execution_count": 63,
     "metadata": {},
     "output_type": "execute_result"
    }
   ],
   "source": [
    "#Rankings of features from RFE after tuning\n",
    "print('Feature ranking: \\n', rfecvRF2.ranking_)\n",
    "#Run predictions with optimal parameters on test set\n",
    "rfecvRF2.predict(X_test)"
   ]
  },
  {
   "cell_type": "code",
   "execution_count": 64,
   "metadata": {},
   "outputs": [
    {
     "name": "stdout",
     "output_type": "stream",
     "text": [
      "Accuracy score for Random Forest Classifier on test set: 0.81167\n"
     ]
    }
   ],
   "source": [
    "#Obtain accuracy of tuned Random forest classifier with validation and test sets after RFE\n",
    "print('Accuracy score for Random Forest Classifier on test set: %.5f' % accuracy_score(y_test,rfecvRF2.predict(X_test)))"
   ]
  },
  {
   "cell_type": "code",
   "execution_count": 65,
   "metadata": {},
   "outputs": [
    {
     "name": "stdout",
     "output_type": "stream",
     "text": [
      "[[6616  384]\n",
      " [1325  675]]\n"
     ]
    }
   ],
   "source": [
    "#Obtain confusion matrix for base Random Forest Classifier results\n",
    "cmRF2 = confusion_matrix(y_test,modelRF2.predict(X_test))\n",
    "print(cmRF2)"
   ]
  }
 ],
 "metadata": {
  "kernelspec": {
   "display_name": "Python 3",
   "language": "python",
   "name": "python3"
  },
  "language_info": {
   "codemirror_mode": {
    "name": "ipython",
    "version": 3
   },
   "file_extension": ".py",
   "mimetype": "text/x-python",
   "name": "python",
   "nbconvert_exporter": "python",
   "pygments_lexer": "ipython3",
   "version": "3.7.1"
  }
 },
 "nbformat": 4,
 "nbformat_minor": 2
}
